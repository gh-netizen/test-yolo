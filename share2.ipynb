{
 "cells": [
  {
   "cell_type": "code",
   "execution_count": null,
   "id": "7a391f09-654d-4c37-adf4-e9db9aa78db9",
   "metadata": {},
   "outputs": [],
   "source": [
    "#0 Git clone YOLOv9\n",
    "#!git clone https://github.com/WongKinYiu/yolov9"
   ]
  },
  {
   "cell_type": "code",
   "execution_count": null,
   "id": "125e10c8-a6e2-4d4c-9041-2d9ce8f91243",
   "metadata": {},
   "outputs": [],
   "source": [
    "#1 Install dependencies\n",
    "!pip install -r yolov9/requirements.txt"
   ]
  },
  {
   "cell_type": "code",
   "execution_count": null,
   "id": "981ab50c-5772-41af-8e37-30d77d6abf26",
   "metadata": {},
   "outputs": [],
   "source": [
    "#1.1\n",
    "!pip install roboflow"
   ]
  },
  {
   "cell_type": "code",
   "execution_count": null,
   "id": "29497eb6-f357-4411-97e6-6c426045189d",
   "metadata": {},
   "outputs": [],
   "source": [
    "#1.2 dependencies used\n",
    "#!pip install pip==21.2.3 ipykernel==6.13.0 matplotlib==3.5.1 tensorflow==2.8.0 tensorflow-gpu==2.8.0 numpy==2.0.2 OpenCV-Python==4.5.5.64 roboflow==1.1.45 torch==2.0.0 torchvision==0.15.0 gitpython==3.1.43 ipython==8.18.1 Pillow==10.4.0 psutil==6.0.0 PyYAML==6.0.2 requests==2.23.3 scipy==1.13.1 thop==0.1.1.post2209072238 tqdm==4.66.5 tensorboard==2.8.0 pandas==2.2.3 seaborn==0.13.2 albumentations==1.4.7 pycocotools==2.0.8"
   ]
  },
  {
   "cell_type": "code",
   "execution_count": 2,
   "id": "f9b0d09d-ee03-4473-a9d1-75dd4a7459db",
   "metadata": {},
   "outputs": [],
   "source": [
    "#1.3 additional yolov9 fileyolov9-m.pts\n",
    "#download yolov9-m.yaml and yolov9-m.pt from repository"
   ]
  },
  {
   "cell_type": "code",
   "execution_count": null,
   "id": "fc2160c7-e5ba-4d0b-b72e-85b24e0d1380",
   "metadata": {
    "tags": []
   },
   "outputs": [],
   "source": [
    "!pip list"
   ]
  },
  {
   "cell_type": "code",
   "execution_count": null,
   "id": "a352db42-b61f-4e37-a562-abe493071f0c",
   "metadata": {
    "tags": []
   },
   "outputs": [],
   "source": [
    "#2 Import libraries\n",
    "from roboflow import Roboflow\n",
    "from IPython.display import Image, display\n",
    "import torch\n",
    "import matplotlib.pyplot as plt\n",
    "import numpy as np\n",
    "import pandas as pd\n",
    "import cv2\n",
    "import os\n",
    "import sys"
   ]
  },
  {
   "cell_type": "code",
   "execution_count": null,
   "id": "c966c6bd-2705-4f88-a5dd-bda504dc2d36",
   "metadata": {},
   "outputs": [],
   "source": [
    "#3 Download dataset\n",
    "#rf = Roboflow(api_key=\"KEY\")\n",
    "#project = rf.workspace(\"basil-detection\").project(\"basil-leaf-identifier\")\n",
    "#version = project.version(9)\n",
    "#dataset = version.download(\"yolov9\")"
   ]
  },
  {
   "cell_type": "code",
   "execution_count": null,
   "id": "a8589699-30d6-476c-9534-f3e8ba5bd1e8",
   "metadata": {},
   "outputs": [],
   "source": [
    "#4 Check Dataset Structure\n",
    "print(os.listdir('roboflow/basil-leaf-identifier-9/'))"
   ]
  },
  {
   "cell_type": "code",
   "execution_count": null,
   "id": "64775d40-c1d8-4038-8aa5-3956b42a5768",
   "metadata": {},
   "outputs": [],
   "source": [
    "#test path\n",
    "import os\n",
    "print(os.getcwd())  #Show current working dir\n",
    "print(os.path.exists('roboflow/Basil-leaf-identifier-9/data.yaml'))  #Check if data.yaml exists in path"
   ]
  },
  {
   "cell_type": "code",
   "execution_count": null,
   "id": "679cc663-629f-4000-9195-f6e9637a54a6",
   "metadata": {},
   "outputs": [],
   "source": [
    "#test: check paths\n",
    "import os\n",
    "\n",
    "# Base working directory\n",
    "base_dir = 'C:/YOUR_ROUTE/base_dir'\n",
    "\n",
    "# Check if data.yaml exists\n",
    "data_yaml_path = os.path.join(base_dir, 'YOUR_ROUTE/Basil-leaf-identifier-9/data.yaml')\n",
    "print(\"data.yaml exists:\", os.path.exists(data_yaml_path))\n",
    "\n",
    "# Check if train images path exists\n",
    "train_images_path = os.path.join(base_dir, 'YOUR_ROUTE/Basil-leaf-identifier-9/train/images')\n",
    "print(\"Train images path exists:\", os.path.exists(train_images_path))\n",
    "\n",
    "# Check if validation images path exists\n",
    "val_images_path = os.path.join(base_dir, 'YOUR_ROUTE/Basil-leaf-identifier-9/valid/images')\n",
    "print(\"Validation images path exists:\", os.path.exists(val_images_path))\n",
    "\n",
    "# Check if test images path exists\n",
    "test_images_path = os.path.join(base_dir, 'YOUR_ROUTE/Basil-leaf-identifier-9/test/images')\n",
    "print(\"Test images path exists:\", os.path.exists(test_images_path))"
   ]
  },
  {
   "cell_type": "code",
   "execution_count": null,
   "id": "ebdd5ebf-51f7-41b8-bf06-45274d76cf14",
   "metadata": {},
   "outputs": [],
   "source": [
    "#5 Train Model with Transfer Learning\n",
    "!python yolov9/train.py --img 640 --batch 16 --epochs 50 --data \"C:/YOUR_ROUTE/Basil-leaf-identifier-9/data.yaml\" --cfg \"C:/YOUR_ROUTE/yolov9/models/detect/yolov9-m.yaml\" --weights \"C:/YOUR_ROUTE/yolov9/yolov9-m.pt\" --hyp \"C:/YOUR_ROUTE/yolov9/data/hyps/hyp.scratch-high.yaml\""
   ]
  },
  {
   "cell_type": "code",
   "execution_count": null,
   "id": "3e283fdf-e6e2-4e89-9398-a669c74f7788",
   "metadata": {},
   "outputs": [],
   "source": [
    "#6 Evaluate Model\n",
    "!python yolov9/val.py --weights yolov9/runs/train/exp/weights/best.pt --data YOUR_ROUTE/basil-leaf-identifier-9/data.yaml --img 640"
   ]
  },
  {
   "cell_type": "code",
   "execution_count": null,
   "id": "3620a917-3df7-45e2-b806-1864e5cc69ea",
   "metadata": {},
   "outputs": [],
   "source": [
    "#7 Test Model on New Images \n",
    "!python yolov9/detect.py --weights yolov9/runs/train/exp/weights/best.pt --img 640 --conf 0.25 --source images_new/"
   ]
  },
  {
   "cell_type": "code",
   "execution_count": null,
   "id": "192deefb-7198-4971-b97a-93cab4adb869",
   "metadata": {},
   "outputs": [],
   "source": [
    "#8 Visualize results\n",
    "output_dir = 'yolov9/runs/detect/exp'"
   ]
  },
  {
   "cell_type": "code",
   "execution_count": null,
   "id": "1d2cbce8-2ae2-4e5e-8d18-9f43d4a78570",
   "metadata": {},
   "outputs": [],
   "source": [
    "#9 Display images in output folder\n",
    "for img_name in os.listdir(output_dir):\n",
    "    display(Image(filename=os.path.join(output_dir, img_name)))"
   ]
  }
 ],
 "metadata": {
  "kernelspec": {
   "display_name": "YOLOV9-kernel",
   "language": "python",
   "name": "yolov9-kernel"
  },
  "language_info": {
   "codemirror_mode": {
    "name": "ipython",
    "version": 3
   },
   "file_extension": ".py",
   "mimetype": "text/x-python",
   "name": "python",
   "nbconvert_exporter": "python",
   "pygments_lexer": "ipython3",
   "version": "3.9.7"
  }
 },
 "nbformat": 4,
 "nbformat_minor": 5
}
